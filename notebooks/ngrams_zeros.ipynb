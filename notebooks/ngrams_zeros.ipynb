{
 "cells": [
  {
   "cell_type": "code",
   "execution_count": 1,
   "id": "765b2714",
   "metadata": {},
   "outputs": [],
   "source": [
    "from src import config\n",
    "from src.models.model import CharacterNGram\n",
    "import pandas as pd\n",
    "import os\n",
    "import numpy as np\n",
    "from src import util"
   ]
  },
  {
   "cell_type": "code",
   "execution_count": 2,
   "id": "16c75104",
   "metadata": {},
   "outputs": [],
   "source": [
    "freq_array = pd.read_csv(os.path.join(\"..\", config.RAW_NAMES_FILE_PATH))\n",
    "\n",
    "character_n_gram = CharacterNGram(num_context=4)\n",
    "character_n_gram.fit(freq_array)"
   ]
  },
  {
   "cell_type": "code",
   "execution_count": 3,
   "id": "72ba284c",
   "metadata": {},
   "outputs": [
    {
     "data": {
      "text/plain": [
       "17127507"
      ]
     },
     "execution_count": 3,
     "metadata": {},
     "output_type": "execute_result"
    }
   ],
   "source": [
    "context_with_zeros = np.argwhere(character_n_gram.freq_array == 0)\n",
    "context_with_zeros.shape[0]"
   ]
  },
  {
   "cell_type": "code",
   "execution_count": 4,
   "id": "f2fb4afb",
   "metadata": {},
   "outputs": [
    {
     "data": {
      "text/plain": [
       "(17210368,)"
      ]
     },
     "execution_count": 4,
     "metadata": {},
     "output_type": "execute_result"
    }
   ],
   "source": [
    "character_n_gram.freq_array.reshape(-1).shape"
   ]
  },
  {
   "cell_type": "code",
   "execution_count": 5,
   "id": "f8f797ab",
   "metadata": {},
   "outputs": [
    {
     "name": "stdout",
     "output_type": "stream",
     "text": [
      "LURX|Z\n",
      "FN_J|X\n",
      "GIKE|B\n",
      "OLOJ|W\n",
      "LDDY|M\n",
      "JQ.W|I\n",
      "VEJE|G\n",
      "SBEB|G\n",
      ".UXD|Q\n",
      "MGSU|V\n"
     ]
    }
   ],
   "source": [
    "idx = np.random.randint(context_with_zeros.shape[0], size=10)\n",
    "sample = context_with_zeros[idx]\n",
    "for element in sample:\n",
    "    context = \"\".join([util.idx_to_char(x) for x in element[:-1]])\n",
    "    print(f\"{context}|{util.idx_to_char(element[-1])}\")"
   ]
  }
 ],
 "metadata": {
  "kernelspec": {
   "display_name": "Python 3",
   "language": "python",
   "name": "python3"
  },
  "language_info": {
   "codemirror_mode": {
    "name": "ipython",
    "version": 3
   },
   "file_extension": ".py",
   "mimetype": "text/x-python",
   "name": "python",
   "nbconvert_exporter": "python",
   "pygments_lexer": "ipython3",
   "version": "3.9.5"
  }
 },
 "nbformat": 4,
 "nbformat_minor": 5
}
