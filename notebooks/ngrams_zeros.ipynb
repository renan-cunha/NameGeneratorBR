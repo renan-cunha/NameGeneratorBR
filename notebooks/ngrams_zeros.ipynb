{
 "cells": [
  {
   "cell_type": "code",
   "execution_count": 1,
   "id": "765b2714",
   "metadata": {},
   "outputs": [],
   "source": [
    "from src import config\n",
    "from src.models.model import CharacterNGram\n",
    "import pandas as pd\n",
    "import os\n",
    "import numpy as np\n",
    "from src import util"
   ]
  },
  {
   "cell_type": "code",
   "execution_count": 2,
   "id": "16c75104",
   "metadata": {},
   "outputs": [],
   "source": [
    "freq_array = pd.read_csv(os.path.join(\"..\", config.RAW_NAMES_FILE_PATH))\n",
    "\n",
    "character_n_gram = CharacterNGram(num_context=4)\n",
    "character_n_gram.fit(freq_array)"
   ]
  },
  {
   "cell_type": "code",
   "execution_count": 3,
   "id": "5e022e26",
   "metadata": {},
   "outputs": [
    {
     "data": {
      "text/plain": [
       "(28, 28, 28, 28, 28)"
      ]
     },
     "execution_count": 3,
     "metadata": {},
     "output_type": "execute_result"
    }
   ],
   "source": [
    "freq_array = character_n_gram.freq_array\n",
    "freq_array.shape"
   ]
  },
  {
   "cell_type": "code",
   "execution_count": 7,
   "id": "7f6859d8",
   "metadata": {},
   "outputs": [
    {
     "name": "stdout",
     "output_type": "stream",
     "text": [
      "_AA_\n",
      "_AAA\n",
      "_AAC\n",
      "_AAE\n",
      "_AAF\n",
      "_AAG\n",
      "_AAH\n",
      "_AAJ\n",
      "_AAK\n",
      "_AAO\n",
      "_AAQ\n",
      "_AAS\n",
      "_AAT\n",
      "_AAU\n",
      "_AAV\n",
      "_AAW\n",
      "_AAX\n",
      "_AAY\n",
      "_AAZ\n",
      "_AA.\n"
     ]
    }
   ],
   "source": [
    "for context in range(28):\n",
    "    if np.any(freq_array[0, 1, 1, context]) == False:\n",
    "        context = \"\".join([util.idx_to_char(x) for x in [0, 1, 1, context]])\n",
    "        print(context)"
   ]
  }
 ],
 "metadata": {
  "kernelspec": {
   "display_name": "Python 3",
   "language": "python",
   "name": "python3"
  },
  "language_info": {
   "codemirror_mode": {
    "name": "ipython",
    "version": 3
   },
   "file_extension": ".py",
   "mimetype": "text/x-python",
   "name": "python",
   "nbconvert_exporter": "python",
   "pygments_lexer": "ipython3",
   "version": "3.9.5"
  }
 },
 "nbformat": 4,
 "nbformat_minor": 5
}
