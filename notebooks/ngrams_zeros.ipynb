{
 "cells": [
  {
   "cell_type": "code",
   "execution_count": 1,
   "id": "765b2714",
   "metadata": {},
   "outputs": [],
   "source": [
    "from src import config\n",
    "from src.models.model import CharacterNGram\n",
    "import pandas as pd\n",
    "import os\n",
    "import numpy as np\n",
    "from src import util"
   ]
  },
  {
   "cell_type": "code",
   "execution_count": 3,
   "id": "16c75104",
   "metadata": {},
   "outputs": [],
   "source": [
    "freq_array = pd.read_csv(os.path.join(\"..\", config.RAW_NAMES_FILE_PATH))\n",
    "\n",
    "character_n_gram = CharacterNGram(context_size=4)\n",
    "character_n_gram.fit(freq_array)"
   ]
  },
  {
   "cell_type": "code",
   "execution_count": 5,
   "id": "5e022e26",
   "metadata": {},
   "outputs": [
    {
     "data": {
      "text/plain": [
       "(28, 28, 28, 28, 28)"
      ]
     },
     "execution_count": 5,
     "metadata": {},
     "output_type": "execute_result"
    }
   ],
   "source": [
    "freq_array = character_n_gram.freq_arrays[0]\n",
    "freq_array.shape"
   ]
  },
  {
   "cell_type": "code",
   "execution_count": 8,
   "id": "7f6859d8",
   "metadata": {},
   "outputs": [
    {
     "name": "stdout",
     "output_type": "stream",
     "text": [
      "AAA_\n",
      "AAAA\n",
      "AAAB\n",
      "AAAC\n",
      "AAAD\n",
      "AAAE\n",
      "AAAF\n",
      "AAAG\n",
      "AAAH\n",
      "AAAI\n",
      "AAAJ\n",
      "AAAK\n",
      "AAAL\n",
      "AAAM\n",
      "AAAN\n",
      "AAAO\n",
      "AAAP\n",
      "AAAQ\n",
      "AAAR\n",
      "AAAS\n",
      "AAAT\n",
      "AAAU\n",
      "AAAV\n",
      "AAAW\n",
      "AAAX\n",
      "AAAY\n",
      "AAAZ\n",
      "AAA.\n"
     ]
    }
   ],
   "source": [
    "for context in range(28):\n",
    "    if np.any(freq_array[1, 1, 1, context]) == False:\n",
    "        context = \"\".join([util.idx_to_char(x) for x in [1, 1, 1, context]])\n",
    "        print(context)"
   ]
  }
 ],
 "metadata": {
  "kernelspec": {
   "display_name": "Python 3",
   "language": "python",
   "name": "python3"
  },
  "language_info": {
   "codemirror_mode": {
    "name": "ipython",
    "version": 3
   },
   "file_extension": ".py",
   "mimetype": "text/x-python",
   "name": "python",
   "nbconvert_exporter": "python",
   "pygments_lexer": "ipython3",
   "version": "3.9.5"
  }
 },
 "nbformat": 4,
 "nbformat_minor": 5
}
